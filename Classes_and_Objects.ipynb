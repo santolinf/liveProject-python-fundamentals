{
 "cells": [
  {
   "cell_type": "code",
   "execution_count": 31,
   "metadata": {
    "collapsed": true
   },
   "outputs": [
    {
     "name": "stdout",
     "output_type": "stream",
     "text": [
      "The price for part 'A123' is: 23.99\n"
     ]
    }
   ],
   "source": [
    "# create a Price class\n",
    "class Price:\n",
    "    def __init__(self, part_number, price):\n",
    "        self.part_number = part_number\n",
    "        self.price = price\n",
    "\n",
    "    def get_price(self):\n",
    "        return self.price\n",
    "\n",
    "p = Price('A123', 23.99)\n",
    "\n",
    "print(f\"The price for part '{p.part_number}' is: {p.get_price()}\")"
   ]
  },
  {
   "cell_type": "code",
   "execution_count": 32,
   "outputs": [],
   "source": [
    "# create two functions that take the same parameters as the methods in the Price class\n",
    "def function__init__(self, part_number, price):\n",
    "    self.part_number = part_number\n",
    "    self.price = price\n",
    "\n",
    "def function_get_price(self):\n",
    "    return self.price"
   ],
   "metadata": {
    "collapsed": false
   }
  },
  {
   "cell_type": "code",
   "execution_count": 33,
   "outputs": [],
   "source": [
    "# create a dictionary with two keys and values being the names of the two functions above\n",
    "namespace = {\n",
    "    \"__init__\": function__init__,\n",
    "    \"get_price\": function_get_price\n",
    "}"
   ],
   "metadata": {
    "collapsed": false
   }
  },
  {
   "cell_type": "code",
   "execution_count": 34,
   "outputs": [],
   "source": [
    "# create a class with `type()`\n",
    "\n",
    "# the first parameter is the Class Name, the second is the list of superclasses or empty, and the last is a dictionary of definitions\n",
    "Price2 = type('Price2', (), namespace)"
   ],
   "metadata": {
    "collapsed": false
   }
  },
  {
   "cell_type": "code",
   "execution_count": 35,
   "outputs": [
    {
     "name": "stdout",
     "output_type": "stream",
     "text": [
      "p is: <__main__.Price object at 0x000002C97755EE90>\n",
      "p2 is: <__main__.Price2 object at 0x000002C976FD6AD0>\n",
      "The price for part 'A123' is: 23.99\n",
      "The price for part 'B987' is: 34.09\n",
      "p's data attributes are: {'part_number': 'A123', 'price': 23.99}\n",
      "p2's data attributes are: {'part_number': 'B987', 'price': 34.09}\n"
     ]
    }
   ],
   "source": [
    "# test to see if there are any differences between the first class and the one created using `type()`\n",
    "p2 = Price2('B987', 34.09)\n",
    "\n",
    "print(f\"p is: {p}\")\n",
    "print(f\"p2 is: {p2}\")\n",
    "\n",
    "print(f\"The price for part '{p.part_number}' is: {p.get_price()}\")\n",
    "print(f\"The price for part '{p2.part_number}' is: {p2.get_price()}\")\n",
    "\n",
    "print(f\"p's data attributes are: {p.__dict__}\")\n",
    "print(f\"p2's data attributes are: {p2.__dict__}\")"
   ],
   "metadata": {
    "collapsed": false
   }
  }
 ],
 "metadata": {
  "kernelspec": {
   "display_name": "Python 3",
   "language": "python",
   "name": "python3"
  },
  "language_info": {
   "codemirror_mode": {
    "name": "ipython",
    "version": 2
   },
   "file_extension": ".py",
   "mimetype": "text/x-python",
   "name": "python",
   "nbconvert_exporter": "python",
   "pygments_lexer": "ipython2",
   "version": "2.7.6"
  }
 },
 "nbformat": 4,
 "nbformat_minor": 0
}
