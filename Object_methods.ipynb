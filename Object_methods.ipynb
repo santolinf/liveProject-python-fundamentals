{
 "cells": [
  {
   "cell_type": "code",
   "execution_count": 6,
   "metadata": {
    "collapsed": true
   },
   "outputs": [
    {
     "name": "stdout",
     "output_type": "stream",
     "text": [
      "<class '__main__.Price'>\n",
      "<__main__.Price object at 0x0000023A28064520>\n"
     ]
    }
   ],
   "source": [
    "# declare class\n",
    "class Price:\n",
    "    def __init__(self, part_number, price):\n",
    "        self.part_number = part_number\n",
    "        self.price = price\n",
    "\n",
    "    def get_price(self):\n",
    "        return self.price\n",
    "\n",
    "item_price = Price('AB-123', 99.02)\n",
    "\n",
    "print(type(item_price))\n",
    "print(item_price)"
   ]
  },
  {
   "cell_type": "code",
   "execution_count": 7,
   "outputs": [
    {
     "name": "stdout",
     "output_type": "stream",
     "text": [
      "dir(item_price): ['__class__', '__delattr__', '__dict__', '__dir__', '__doc__', '__eq__', '__format__', '__ge__', '__getattribute__', '__gt__', '__hash__', '__init__', '__init_subclass__', '__le__', '__lt__', '__module__', '__ne__', '__new__', '__reduce__', '__reduce_ex__', '__repr__', '__setattr__', '__sizeof__', '__str__', '__subclasshook__', '__weakref__', 'get_price', 'part_number', 'price']\n",
      "\n",
      "item_price.__dict__: {'part_number': 'AB-123', 'price': 99.02}\n",
      "\n",
      "dir(Price): ['__class__', '__delattr__', '__dict__', '__dir__', '__doc__', '__eq__', '__format__', '__ge__', '__getattribute__', '__gt__', '__hash__', '__init__', '__init_subclass__', '__le__', '__lt__', '__module__', '__ne__', '__new__', '__reduce__', '__reduce_ex__', '__repr__', '__setattr__', '__sizeof__', '__str__', '__subclasshook__', '__weakref__', 'get_price']\n",
      "\n",
      "Price.__dict__: {'__module__': '__main__', '__init__': <function Price.__init__ at 0x0000023A289B7BE0>, 'get_price': <function Price.get_price at 0x0000023A289B7A30>, '__dict__': <attribute '__dict__' of 'Price' objects>, '__weakref__': <attribute '__weakref__' of 'Price' objects>, '__doc__': None}\n"
     ]
    }
   ],
   "source": [
    "# dir() lists almost all attributes and methods of an object and those of its superclasses (if the object is given as an argument),\n",
    "# or the names in the current local scope (if the optional object is not given)\n",
    "# think of `dir()` as letting you know what's in the object\n",
    "print(f\"dir(item_price): {dir(item_price)}\")\n",
    "\n",
    "# __dict__ is a special attribute that stores a mapping of the writable attributes specific to an object or class.\n",
    "# It also means that an object that has __dict__ can have any new attributes set any time.\n",
    "print(f\"\\nitem_price.__dict__: {item_price.__dict__}\")\n",
    "\n",
    "# another difference between __dict__ and dir() is that the former returns a dictionary and the latter a list\n",
    "print(f\"\\ndir(Price): {dir(Price)}\")\n",
    "print(f\"\\nPrice.__dict__: {Price.__dict__}\")"
   ],
   "metadata": {
    "collapsed": false
   }
  },
  {
   "cell_type": "code",
   "execution_count": 8,
   "outputs": [],
   "source": [
    "# assumes percent_off is a whole number between 0 and 100\n",
    "def set_discount(item_price, percent_off):\n",
    "    item_price.percent_off = percent_off\n",
    "\n",
    "def get_discount_price(item_price):\n",
    "    if item_price.__dict__.__contains__('percent_off'):\n",
    "        return item_price.price * (1 - item_price.percent_off / 100)\n",
    "    return item_price.price\n"
   ],
   "metadata": {
    "collapsed": false
   }
  },
  {
   "cell_type": "code",
   "execution_count": 9,
   "outputs": [
    {
     "name": "stdout",
     "output_type": "stream",
     "text": [
      "discounted new_item_price: 0.5279999999999999\n",
      "discounted 'old' item_price: 99.02\n"
     ]
    }
   ],
   "source": [
    "# attach above standalone functions to the class\n",
    "Price.set_discount = set_discount\n",
    "Price.get_discount_price = get_discount_price\n",
    "\n",
    "# The above functions become attributes of the class Price, and they are `bounded` meaning that they will be accessed\n",
    "# via instances of the class because of the `self` first argument.\n",
    "new_item_price = Price('BBB444', 1.60)\n",
    "Price.set_discount(new_item_price, 67)\n",
    "print(f\"discounted new_item_price: {new_item_price.get_discount_price()}\")\n",
    "\n",
    "# Methods are attached to the class and because of this all instance objects regardless if they were created before attaching the standalone functions,\n",
    "# the following method call will work always\n",
    "print(f\"discounted 'old' item_price: {item_price.get_discount_price()}\")\n"
   ],
   "metadata": {
    "collapsed": false
   }
  },
  {
   "cell_type": "code",
   "execution_count": 10,
   "outputs": [
    {
     "name": "stdout",
     "output_type": "stream",
     "text": [
      "\n",
      "dir(new_item_price): ['__class__', '__delattr__', '__dict__', '__dir__', '__doc__', '__eq__', '__format__', '__ge__', '__getattribute__', '__gt__', '__hash__', '__init__', '__init_subclass__', '__le__', '__lt__', '__module__', '__ne__', '__new__', '__reduce__', '__reduce_ex__', '__repr__', '__setattr__', '__sizeof__', '__str__', '__subclasshook__', '__weakref__', 'get_discount_price', 'get_price', 'part_number', 'percent_off', 'price', 'quantity', 'set_discount', 'set_quantity']\n"
     ]
    }
   ],
   "source": [
    "# There is no good reason to attach a bounded function to an instance of a class. The following could be downsides to this.\n",
    "# 1. poor memory utilisation as when adding to instances it creates a binding reference to the\n",
    "#    bounded function and prevents the bounded method from being garbage collected; when added to many instances it consumes memory;\n",
    "#    conversely, when added to the class in its definition or monkey-patched to the class, the bound method\n",
    "#    is only created for the short duration of the call, and then eventually garbage collected\n",
    "# 2. risk violating the rule of least surprise because some instances will have a method and others won't\n",
    "# 3. to make it work there is some setup involved using either the descriptor method `__get__`,\n",
    "#    importing `types` method constructor, lexical binding, or using `functools.partial` all of which complicates your code\n",
    "\n",
    "# Unbound functions when added to an instance will not take the implicit `self` as the first argument.\n",
    "# The only way is to explicitly pass the instance, but it would not be consistent with the expected signature of other instances.\n",
    "\n",
    "def set_quantity(item_price, quantity):\n",
    "    item_price.quantity = quantity\n",
    "\n",
    "new_item_price.set_quantity = set_quantity\n",
    "\n",
    "new_item_price.set_quantity(new_item_price, 10)\n",
    "print(f\"\\ndir(new_item_price): {dir(new_item_price)}\")\n"
   ],
   "metadata": {
    "collapsed": false
   }
  },
  {
   "cell_type": "code",
   "execution_count": 10,
   "outputs": [],
   "source": [],
   "metadata": {
    "collapsed": false
   }
  }
 ],
 "metadata": {
  "kernelspec": {
   "display_name": "Python 3",
   "language": "python",
   "name": "python3"
  },
  "language_info": {
   "codemirror_mode": {
    "name": "ipython",
    "version": 2
   },
   "file_extension": ".py",
   "mimetype": "text/x-python",
   "name": "python",
   "nbconvert_exporter": "python",
   "pygments_lexer": "ipython2",
   "version": "2.7.6"
  }
 },
 "nbformat": 4,
 "nbformat_minor": 0
}
