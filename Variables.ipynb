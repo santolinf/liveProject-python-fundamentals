{
 "cells": [
  {
   "cell_type": "code",
   "execution_count": null,
   "id": "a0a2aff1",
   "metadata": {},
   "outputs": [],
   "source": [
    "# Variables and Objects\n",
    "# When creating variables we are creating \"labels\" that are bound to objects (including those of specific data types).\n",
    "# Objects are created in memory and variables are bound (or reference) to them; when there are no more references to any given object,\n",
    "# they become orphaned, they are no longer accessible, and they will be reclaimed by Python via garbage collection.\n",
    "\n",
    "# Immutable Data Types are objects that cannot be changed after they are created; these types are int, float, string, boolean and tuple."
   ]
  },
  {
   "cell_type": "code",
   "execution_count": 2,
   "id": "debfd0ae",
   "metadata": {},
   "outputs": [
    {
     "name": "stdout",
     "output_type": "stream",
     "text": [
      "value of a: 2, value of b: 3\n"
     ]
    }
   ],
   "source": [
    "# Variables: integer (immutable)\n",
    "a = 2\n",
    "b = a\n",
    "b = 3\n",
    "print(f\"value of a: {a}, value of b: {b}\")"
   ]
  },
  {
   "cell_type": "code",
   "execution_count": 1,
   "id": "e1e29acf",
   "metadata": {},
   "outputs": [
    {
     "name": "stdout",
     "output_type": "stream",
     "text": [
      "value of r1: 4.8, value of r2: 0.22\n"
     ]
    }
   ],
   "source": [
    "# Variables: float (immutable)\n",
    "r1 = 4.8\n",
    "r2 = r1\n",
    "r2 = 22e-02\n",
    "print(f\"value of r1: {r1}, value of r2: {r2}\")"
   ]
  },
  {
   "cell_type": "code",
   "execution_count": 6,
   "id": "148ee7d2",
   "metadata": {},
   "outputs": [
    {
     "name": "stdout",
     "output_type": "stream",
     "text": [
      "value of s1: Hello World, value of s2: World\n",
      "identity of original s1: 1964122251696, identity of s1: 1964122251120\n"
     ]
    }
   ],
   "source": [
    "# Variables: string (immutable)\n",
    "s1 = 'Hello'\n",
    "original_s1_id = id(s1)\n",
    "s2 = 'World'\n",
    "s1 += ' ' + s2\n",
    "print(f\"value of s1: {s1}, value of s2: {s2}\")\n",
    "print(f\"identity of original s1: {original_s1_id}, identity of s1: {id(s1)}\")"
   ]
  },
  {
   "cell_type": "code",
   "execution_count": 7,
   "id": "b8625aa0",
   "metadata": {},
   "outputs": [
    {
     "name": "stdout",
     "output_type": "stream",
     "text": [
      "value of t1: (3, 2), value of t2: (1, 2)\n"
     ]
    }
   ],
   "source": [
    "# Variables: tuple (immutable)\n",
    "t1 = (1, 2)\n",
    "t2 = t1\n",
    "t1 = (3, 2)\n",
    "print(f\"value of t1: {t1}, value of t2: {t2}\")"
   ]
  },
  {
   "cell_type": "code",
   "execution_count": 8,
   "id": "217d4950",
   "metadata": {},
   "outputs": [
    {
     "name": "stdout",
     "output_type": "stream",
     "text": [
      "value of b1: False, value of b2: True\n"
     ]
    }
   ],
   "source": [
    "# Variables: boolean (immutable)\n",
    "b1 = 1 == 1\n",
    "b2 = b1\n",
    "b1 = False\n",
    "print(f\"value of b1: {b1}, value of b2: {b2}\")"
   ]
  },
  {
   "cell_type": "code",
   "execution_count": 17,
   "id": "d012051d",
   "metadata": {},
   "outputs": [
    {
     "name": "stdout",
     "output_type": "stream",
     "text": [
      "value of l1: ['one', 2, 'three'], value of l2: ['one', 2, 'three']\n",
      "l1 and l2 point to the same object? True\n",
      "value of l1: [(1, 2), (3, 4), (5, 6)], value of l2: ['one', 2, 'three']\n",
      "l1 and l2 point to the same object? False\n"
     ]
    }
   ],
   "source": [
    "# Variables: list (mutable)\n",
    "l1 = [\"one\", \"two\", \"three\", \"four\"]\n",
    "l2 = l1\n",
    "l1[1] = 2\n",
    "l1[3:] = []\n",
    "print(f\"value of l1: {l1}, value of l2: {l2}\")\n",
    "print(f\"l1 and l2 point to the same object? {id(l1) == id(l2)}\")\n",
    "l1 = [ (1,2), (3,4), (5,6) ]\n",
    "print(f\"value of l1: {l1}, value of l2: {l2}\")\n",
    "print(f\"l1 and l2 point to the same object? {id(l1) == id(l2)}\")"
   ]
  },
  {
   "cell_type": "code",
   "execution_count": 1,
   "id": "2a1eecc4",
   "metadata": {},
   "outputs": [
    {
     "name": "stdout",
     "output_type": "stream",
     "text": [
      "value of d1 is {'a': 'first', 'second': 'b', (9, 8, 'y'): 3}\n",
      "value of d2 is {'a': 'first', 'second': 'b', (9, 8, 'y'): 3}\n"
     ]
    }
   ],
   "source": [
    "# Variables: dictionary (mutable)\n",
    "d1 = { 'a': 'first', 'b': 2 }\n",
    "d2 = d1\n",
    "d2['second'] = 'b'\n",
    "d2[(9, 8, 'y')] = 3\n",
    "del d1['b']\n",
    "print(f\"value of d1 is {d1}\")\n",
    "print(f\"value of d2 is {d2}\")"
   ]
  },
  {
   "cell_type": "code",
   "execution_count": 16,
   "id": "3db0e3b7",
   "metadata": {},
   "outputs": [
    {
     "name": "stdout",
     "output_type": "stream",
     "text": [
      "value of x1 is {5, 6, 7, 'a', 8}\n",
      "value of x2 is {5, 6, 7, 'a', 8}\n",
      "x1 and x2 point to the same object? True\n"
     ]
    }
   ],
   "source": [
    "# Variables: set (mutable)\n",
    "x1 = { 5, 6, 'a', 7 }\n",
    "x2 = x1\n",
    "x1 |= ({ 'a', 8 })\n",
    "print(f\"value of x1 is {x1}\")\n",
    "print(f\"value of x2 is {x2}\")\n",
    "print(f\"x1 and x2 point to the same object? {id(x1) == id(x2)}\")"
   ]
  },
  {
   "cell_type": "code",
   "execution_count": null,
   "id": "aea3257d",
   "metadata": {},
   "outputs": [],
   "source": []
  }
 ],
 "metadata": {
  "kernelspec": {
   "display_name": "Python 3 (ipykernel)",
   "language": "python",
   "name": "python3"
  },
  "language_info": {
   "codemirror_mode": {
    "name": "ipython",
    "version": 3
   },
   "file_extension": ".py",
   "mimetype": "text/x-python",
   "name": "python",
   "nbconvert_exporter": "python",
   "pygments_lexer": "ipython3",
   "version": "3.10.7"
  }
 },
 "nbformat": 4,
 "nbformat_minor": 5
}
