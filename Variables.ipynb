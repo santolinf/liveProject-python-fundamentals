{
 "cells": [
  {
   "cell_type": "code",
   "execution_count": 1,
   "outputs": [],
   "source": [
    "# Variables and Objects\n",
    "# When creating variables we are creating \"labels\" that are bound to objects (including those of specific data types).\n",
    "# Objects are created in memory and variables are bound (or reference or point) to them; when there are no more references to any given object,\n",
    "# they become orphaned, they are no longer accessible, and they will be reclaimed by Python via garbage collection.\n",
    "# The `id()` function returns the memory location or unique id of the object.\n",
    "\n",
    "# Immutable Data Types are objects that cannot be changed after they are created; these types are int, float, string, boolean and tuple."
   ],
   "metadata": {
    "collapsed": false
   }
  },
  {
   "cell_type": "code",
   "execution_count": 16,
   "outputs": [
    {
     "name": "stdout",
     "output_type": "stream",
     "text": [
      "value of a: 2 - id: 2174202478864\n",
      "value of b: 3 - id: 2174202478896\n",
      "Explanation: a and b initially point to the same immutable object in memory, and because immutable objects can not change, when reassigning b to point to a new int object both labels now refer to different objects in different memory locations\n"
     ]
    }
   ],
   "source": [
    "# Variables: integer (immutable)\n",
    "a = 2\n",
    "b = a\n",
    "b = 3\n",
    "print(f\"value of a: {a} - id: {id(a)}\")\n",
    "print(f\"value of b: {b} - id: {id(b)}\")\n",
    "print(\"Explanation: a and b initially point to the same immutable object in memory, and because immutable objects can not change, when reassigning b to point to a new int object both `labels` now refer to different objects in different memory locations\")"
   ],
   "metadata": {
    "collapsed": false
   }
  },
  {
   "cell_type": "code",
   "execution_count": 18,
   "id": "e1e29acf",
   "metadata": {},
   "outputs": [
    {
     "name": "stdout",
     "output_type": "stream",
     "text": [
      "value of r1: 4.8 - id: 2174269897328\n",
      "value of r2: 0.22 - id: 2174269895728\n",
      "Explanation: r1 and r2 initially point to the same immutable object in memory, and because immutable objects can not change, when reassigning r2 to point to a new float object both labels now refer to different objects in different memory locations\n"
     ]
    }
   ],
   "source": [
    "# Variables: float (immutable)\n",
    "r1 = 4.8\n",
    "r2 = r1\n",
    "r2 = 22e-02\n",
    "print(f\"value of r1: {r1} - id: {id(r1)}\")\n",
    "print(f\"value of r2: {r2} - id: {id(r2)}\")\n",
    "print(\"Explanation: r1 and r2 initially point to the same immutable object in memory, and because immutable objects can not change, when reassigning r2 to point to a new float object both `labels` now refer to different objects in different memory locations\")"
   ]
  },
  {
   "cell_type": "code",
   "execution_count": 21,
   "outputs": [
    {
     "name": "stdout",
     "output_type": "stream",
     "text": [
      "value of s1: Hello World, value of s2: World\n",
      "identity of original s1: 2174273202480, identity of s1: 2174273290736\n",
      "s2: World - id: 2174270545904, s3: World - id: 2174270545904, s4: World - id: 2174270545904, s5: World - id: 2174270545904\n",
      "Explanation: s1 initially points to the `Hello` string object; s2 points to an initially created `World` string object; when s1 is reassigned with the concatenation of itself and s2 this results to a new string object and the no longer accessible `Hello` string object; s2, s3, s4 and s5 point to the same immutable object in memory\n"
     ]
    }
   ],
   "source": [
    "# Variables: string (immutable)\n",
    "s1 = 'Hello'\n",
    "original_s1_id = id(s1)\n",
    "s2 = 'World'\n",
    "s1 += ' ' + s2\n",
    "s3 = s2\n",
    "s4 = s3\n",
    "s5 = \"World\"\n",
    "print(f\"value of s1: {s1}, value of s2: {s2}\")\n",
    "print(f\"identity of original s1: {original_s1_id}, identity of s1: {id(s1)}\")\n",
    "print(f\"s2: {s2} - id: {id(s2)}, s3: {s3} - id: {id(s3)}, s4: {s4} - id: {id(s4)}, s5: {s5} - id: {id(s5)}\")\n",
    "print(\"Explanation: s1 initially points to the `Hello` string object; s2 points to an initially created `World` string object; when s1 is reassigned with the concatenation of itself and s2 this results to a new string object and the no longer accessible `Hello` string object; s2, s3, s4 and s5 point to the same immutable object in memory\")"
   ],
   "metadata": {
    "collapsed": false
   }
  },
  {
   "cell_type": "code",
   "execution_count": 22,
   "id": "b8625aa0",
   "metadata": {},
   "outputs": [
    {
     "name": "stdout",
     "output_type": "stream",
     "text": [
      "value of t1: (3, 2) - id: 2174272670656\n",
      "value of t2: (1, 2) - id: 2174262604736\n",
      "Explanation: t1 and t2 initially point to the same immutable object in memory, and because immutable objects can not change, when reassigning t2 to point to a new tuple object both `labels` now refer to different objects in different memory locations\n"
     ]
    }
   ],
   "source": [
    "# Variables: tuple (immutable)\n",
    "t1 = (1, 2)\n",
    "t2 = t1\n",
    "t1 = (3, 2)\n",
    "print(f\"value of t1: {t1} - id: {id(t1)}\")\n",
    "print(f\"value of t2: {t2} - id: {id(t2)}\")\n",
    "print(\"Explanation: t1 and t2 initially point to the same immutable object in memory, and because immutable objects can not change, when reassigning t2 to point to a new tuple object both `labels` now refer to different objects in different memory locations\")"
   ]
  },
  {
   "cell_type": "code",
   "execution_count": 28,
   "id": "217d4950",
   "metadata": {},
   "outputs": [
    {
     "name": "stdout",
     "output_type": "stream",
     "text": [
      "value of b1: False - id: 140718221777800\n",
      "value of b2: True - id: 140718221777768\n",
      "value of b3: False - id: 140718221777800\n",
      "Explanation: b1 and b2 initially point to the same immutable object in memory, and because immutable objects can not change, when reassigning b2 to point to a new tuple object both `labels` now refer to different objects in different memory locations\n"
     ]
    }
   ],
   "source": [
    "# Variables: boolean (immutable)\n",
    "b1 = 1 == 1\n",
    "b2 = b1\n",
    "b1 = False\n",
    "b3 = b2 == b1\n",
    "print(f\"value of b1: {b1} - id: {id(b1)}\")\n",
    "print(f\"value of b2: {b2} - id: {id(b2)}\")\n",
    "print(f\"value of b3: {b3} - id: {id(b3)}\")\n",
    "print('''Explanation: b1 and b2 initially point to the same immutable object in memory, and because immutable objects can not change, when reassigning b2 to point to a new tuple object both `labels` now refer to different objects in different memory locations''')"
   ]
  },
  {
   "cell_type": "code",
   "execution_count": 3,
   "id": "d012051d",
   "metadata": {},
   "outputs": [
    {
     "name": "stdout",
     "output_type": "stream",
     "text": [
      "value of l1: ['one', 2, 'three'] - id: 1941845690624\n",
      "value of l2: ['one', 2, 'three'] - id: 1941845690624\n",
      "l1 and l2 point to the same object? True\n",
      "value of l1: [(1, 2), (3, 4), (5, 6)] - id: 1941843207424\n",
      "value of l2: ['one', 2, 'three'] - id: 1941845690624\n",
      "l1 and l2 point to the same object? False\n"
     ]
    }
   ],
   "source": [
    "# Variables: list (mutable)\n",
    "l1 = [\"one\", \"two\", \"three\", \"four\"]\n",
    "l2 = l1\n",
    "l1[1] = 2\n",
    "l1[3:] = []\n",
    "print(f\"value of l1: {l1} - id: {id(l1)}\")\n",
    "print(f\"value of l2: {l2} - id: {id(l2)}\")\n",
    "print(f\"l1 and l2 point to the same object? {id(l1) == id(l2)}\")\n",
    "l1 = [ (1,2), (3,4), (5,6) ]\n",
    "print(f\"value of l1: {l1} - id: {id(l1)}\")\n",
    "print(f\"value of l2: {l2} - id: {id(l2)}\")\n",
    "print(f\"l1 and l2 point to the same object? {id(l1) == id(l2)}\")"
   ]
  },
  {
   "cell_type": "code",
   "execution_count": 8,
   "id": "2a1eecc4",
   "metadata": {},
   "outputs": [
    {
     "name": "stdout",
     "output_type": "stream",
     "text": [
      "value of d1: {'a': 'first', 'second': 'b', (9, 8, 'y'): 3} - id: 1941845787136\n",
      "value of d2: {'a': 'first', 'second': 'b', (9, 8, 'y'): 3} - id: 1941845787136\n",
      "d1 and d2 point to the same object? True\n",
      "value of d1: {'a': 'first', 'second': 'b', (9, 8, 'y'): 3} - id: 1941845787136\n",
      "value of d2: {'x': 1, 'y': 2, 'z': 3} - id: 1941835033792\n",
      "Explanation: d1 and d2 initially point to the same dictionary object in memory, and when modifying any key-value pairs in the dictionary both `labels` still point to the same dictionary object, however when reassigning d2 to point to a new dictionary object both `labels` now refer to different objects in different memory locations\n"
     ]
    }
   ],
   "source": [
    "# Variables: dictionary (mutable)\n",
    "d1 = { 'a': 'first', 'b': 2 }\n",
    "d2 = d1\n",
    "d2['second'] = 'b'\n",
    "d2[(9, 8, 'y')] = 3\n",
    "del d1['b']\n",
    "print(f\"value of d1: {d1} - id: {id(d1)}\")\n",
    "print(f\"value of d2: {d2} - id: {id(d2)}\")\n",
    "print(f\"d1 and d2 point to the same object? {id(d1) == id(d2)}\")\n",
    "d2 = { 'x': 1, 'y': 2, 'z': 3 }\n",
    "print(f\"value of d1: {d1} - id: {id(d1)}\")\n",
    "print(f\"value of d2: {d2} - id: {id(d2)}\")\n",
    "print('''Explanation: d1 and d2 initially point to the same dictionary object in memory, and when modifying any key-value pairs in the dictionary both `labels` still point to the same dictionary object, however when reassigning d2 to point to a new dictionary object both `labels` now refer to different objects in different memory locations''')"
   ]
  },
  {
   "cell_type": "code",
   "execution_count": 11,
   "id": "3db0e3b7",
   "metadata": {},
   "outputs": [
    {
     "name": "stdout",
     "output_type": "stream",
     "text": [
      "value of x1: {5, 6, 7, 8, 'a'} - id: 1941776209216\n",
      "value of x2: {5, 6, 7, 8, 'a'} - id: 1941776209216\n",
      "x1 and x2 point to the same object? True\n",
      "value of x1: {0, 1} - id: 1941845581312\n",
      "value of x2: {5, 6, 7, 8, 'a'} - id: 1941776209216\n",
      "Explanation: x1 and x2 initially point to the same set object in memory, and when performing a union with another set object and setting the result to x1 both `labels` still point to the same set object, however when reassigning x1 to point to an altogether new set object both `labels` now refer to different objects in different memory locations\n",
      "value of x2: {5, 6, 7, 8, 'a'} - id: 1941845582656\n"
     ]
    }
   ],
   "source": [
    "# Variables: set (mutable)\n",
    "x1 = { 5, 6, 'a', 7 }\n",
    "x2 = x1\n",
    "x1 |= ({ 'a', 8 })\n",
    "print(f\"value of x1: {x1} - id: {id(x1)}\")\n",
    "print(f\"value of x2: {x2} - id: {id(x2)}\")\n",
    "print(f\"x1 and x2 point to the same object? {id(x1) == id(x2)}\")\n",
    "x1 = { 1, 1, 0, 0 }\n",
    "print(f\"value of x1: {x1} - id: {id(x1)}\")\n",
    "print(f\"value of x2: {x2} - id: {id(x2)}\")\n",
    "print('''Explanation: x1 and x2 initially point to the same set object in memory, and when performing a union with another set object and setting the result to x1 both `labels` still point to the same set object, however when reassigning x1 to point to an altogether new set object both `labels` now refer to different objects in different memory locations''')\n",
    "x2 = {5, 6, 7, 8, 'a'}\n",
    "print(f\"value of x2: {x2} - id: {id(x2)}\")"
   ]
  },
  {
   "cell_type": "code",
   "execution_count": 9,
   "id": "aea3257d",
   "metadata": {},
   "outputs": [],
   "source": []
  }
 ],
 "metadata": {
  "kernelspec": {
   "display_name": "Python 3 (ipykernel)",
   "language": "python",
   "name": "python3"
  },
  "language_info": {
   "codemirror_mode": {
    "name": "ipython",
    "version": 3
   },
   "file_extension": ".py",
   "mimetype": "text/x-python",
   "name": "python",
   "nbconvert_exporter": "python",
   "pygments_lexer": "ipython3",
   "version": "3.10.7"
  }
 },
 "nbformat": 4,
 "nbformat_minor": 5
}
